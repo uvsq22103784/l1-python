{
 "cells": [
  {
   "cell_type": "markdown",
   "source": [
    "# Cours 4 : les fonctions en Python"
   ],
   "metadata": {
    "slideshow": {
     "slide_type": "slide"
    }
   }
  },
  {
   "cell_type": "markdown",
   "source": [
    "## 0. Écriture de programme\n",
    "\n",
    "Jusqu'à maintenant on a écrit seulement quelques lignes de Python avec évaluation\n",
    "immédiate de leur effet. Nous allons maintenant écrire des *scripts* ou *programmes*, qui sont plus long et dépendent éventuellement d'arguments fournis au lancement du programme.\n",
    "\n",
    "Pour cela, nous allons utiliser un éditeur de texte (VS Code) et un interpréteur Python (celui qui est lié à VS Code mais qui peut également être appelé depuis le terminal).\n",
    "\n",
    "**Démonstration des outils**"
   ],
   "metadata": {
    "slideshow": {
     "slide_type": "slide"
    }
   }
  },
  {
   "cell_type": "markdown",
   "source": [
    "Ici, faire une démo de l'écriture d'un programme dans VS Code avec exécution du programme.  \n",
    "Puis exécution du même programme avec le shell pour montrer qu'il se passe la même chose."
   ],
   "metadata": {
    "slideshow": {
     "slide_type": "notes"
    }
   }
  },
  {
   "cell_type": "markdown",
   "source": [
    "## 1. Utilité des fonctions en programmation\n",
    "\n",
    "\n",
    "Quand on écrit un code il est très fréquent d'utiliser la même fonctionnalité plusieurs fois. \n",
    "Quand ces fonctionnalités sont très communes, la librairie standard de Python ou des librairies externes vont vous fournir des fonctions déjà codées. Nous avons par exemple vu les fonctions `capitalize`, `random.randint` ou `math.cos`.\n",
    "\n",
    "\n",
    "Par ailleurs les fonctions permettent de découper le code en petites unités compréhensibles et indépendantes, ce qui le rend plus facile à comprendre et analyser.\n"
   ],
   "metadata": {
    "slideshow": {
     "slide_type": "slide"
    }
   }
  },
  {
   "cell_type": "code",
   "execution_count": 1,
   "source": [
    "#exemple de code pour lequel une fonction est utile car on l'appelle plusieurs fois\n",
    "\n",
    "def chiffre(chaine, cle):\n",
    "    \"\"\" Retourne une chaîne de caractères chiffrée en décalant chaque lettre de chaine par l'entier cle\"\"\" \n",
    "    res = ''\n",
    "    for c in chaine:\n",
    "        res += chr(ord(c) + cle)\n",
    "    return res\n",
    "\n",
    "#rien ne s'affiche à l'exécution: on a définit une fonction mais aucune instruction n'a été exécutée"
   ],
   "outputs": [],
   "metadata": {
    "slideshow": {
     "slide_type": "subslide"
    }
   }
  },
  {
   "cell_type": "code",
   "execution_count": 2,
   "source": [
    "#pour comprendre ce que font des fonctions inconnus, utiliser help    \n",
    "#cela affiche le docstring de la fonction\n",
    "help(chr)  #transforme un code unicode de caractère en la chaine contenant ce caractère\n",
    "help(ord)  #transforme une chaine contenant un caractère en un code unicode\n",
    "help(chiffre)"
   ],
   "outputs": [
    {
     "output_type": "stream",
     "name": "stdout",
     "text": [
      "Help on built-in function chr in module builtins:\n",
      "\n",
      "chr(i, /)\n",
      "    Return a Unicode string of one character with ordinal i; 0 <= i <= 0x10ffff.\n",
      "\n",
      "Help on built-in function ord in module builtins:\n",
      "\n",
      "ord(c, /)\n",
      "    Return the Unicode code point for a one-character string.\n",
      "\n",
      "Help on function chiffre in module __main__:\n",
      "\n",
      "chiffre(chaine, cle)\n",
      "    Retourne une chaîne de caractères chiffrée en décalant chaque lettre de chaine par l'entier cle\n",
      "\n"
     ]
    }
   ],
   "metadata": {
    "slideshow": {
     "slide_type": "fragment"
    }
   }
  },
  {
   "cell_type": "code",
   "execution_count": 3,
   "source": [
    "help(chiffre)\n",
    "message_chiffre = chiffre(input(),1) \n",
    "print(message_chiffre)\n",
    "message_dechiffre = chiffre(message_chiffre, -1)\n",
    "print(message_dechiffre)"
   ],
   "outputs": [
    {
     "output_type": "stream",
     "name": "stdout",
     "text": [
      "Help on function chiffre in module __main__:\n",
      "\n",
      "chiffre(chaine, cle)\n",
      "    Retourne une chaîne de caractères chiffrée en décalant chaque lettre de chaine par l'entier cle\n",
      "\n",
      "\n",
      "\n"
     ]
    }
   ],
   "metadata": {
    "slideshow": {
     "slide_type": "fragment"
    }
   }
  },
  {
   "cell_type": "markdown",
   "source": [
    "En mathématique une fonction s'écrit f: x $\\rightarrow$ f(x).\n",
    "Il y a trois parties dans la fonction: f son *nom*, x son *argument* et \n",
    "*f(x)* son image (valeur/résultat).\n",
    "\n",
    "Quelques exemples que vous connaissez bien:\n",
    "* $f(x) = ax + b$\n",
    "* $f(x) = x^2$\n",
    "* $f(x) = 2^x$\n",
    "* $f(x) = |x|$\n",
    "* $f(x,y) = x + y$\n",
    "\n",
    "\n",
    "C'est la même chose quand on programme, une fonction associe à un argument\n",
    "un résultat. L'argument et le résultat peuvent être arbitrairement complexes (des tuples ou des fonctions par exemple)."
   ],
   "metadata": {
    "slideshow": {
     "slide_type": "subslide"
    }
   }
  },
  {
   "cell_type": "markdown",
   "source": [
    "On peut donner des exemples de fonction dans d'autres cadres qui ne sont pas des mathématiques.\n",
    "Par exemple en cuisine, on peut définir les fonctions couper(aliment), mélanger(aliment1, aliment2) et cuire(aliment), trois fonctions bien utiles pour écrire une recette (= programme)."
   ],
   "metadata": {
    "slideshow": {
     "slide_type": "notes"
    }
   }
  },
  {
   "cell_type": "markdown",
   "source": [
    "## 2. Définir une fonction en Python\n",
    "---\n",
    "Syntaxe de déclaration d'une fonction (signature de la fonction):\n",
    "\n",
    "* Une fonction est introduite grâce au mot clé `def`\n",
    "* On indique ensuite son nom\n",
    "* On donne sa liste d'arguments entre parenthèses\n",
    "* On termine la ligne par `:`\n",
    "\n",
    "\n",
    "Notez que le type des arguments n'est pas précisé, contrairement à la plupart des langages\n",
    "de programmation. On peut donner une fonction comme argument à une autre fonction.\n"
   ],
   "metadata": {
    "slideshow": {
     "slide_type": "slide"
    }
   }
  },
  {
   "cell_type": "code",
   "execution_count": 6,
   "source": [
    "def multiplie(x,y):"
   ],
   "outputs": [
    {
     "output_type": "error",
     "ename": "IndentationError",
     "evalue": "expected an indented block (3947825908.py, line 1)",
     "traceback": [
      "\u001b[0;36m  File \u001b[0;32m\"/var/folders/sm/hktwnky17fx62y88z0s3fh600000gn/T/ipykernel_70121/3947825908.py\"\u001b[0;36m, line \u001b[0;32m1\u001b[0m\n\u001b[0;31m    def multiplie(x,y):\u001b[0m\n\u001b[0m                       ^\u001b[0m\n\u001b[0;31mIndentationError\u001b[0m\u001b[0;31m:\u001b[0m expected an indented block\n"
     ]
    }
   ],
   "metadata": {
    "slideshow": {
     "slide_type": "fragment"
    }
   }
  },
  {
   "cell_type": "markdown",
   "source": [
    "Tester le code précédent avec ou sans `pass`. Il faut que le corps de la fonction soit non-vide.\n",
    "On peut voir que `pass` ne fait rien. "
   ],
   "metadata": {
    "slideshow": {
     "slide_type": "notes"
    }
   }
  },
  {
   "cell_type": "markdown",
   "source": [
    "Le corps de la fonction est un bloc de code *indenté*, qui vient après sa déclaration. \n",
    "Il peut être précédé d'un commentaire, appelé **docstring** qui sert à générer la documentation automatique de `help()`. Un docstring est entouré de trois guillemets: `\"\"\" docstring \"\"\"`."
   ],
   "metadata": {
    "slideshow": {
     "slide_type": "subslide"
    }
   }
  },
  {
   "cell_type": "code",
   "execution_count": 7,
   "source": [
    "def multiplie(x):\n",
    "    \"\"\" Cette fonction multiplie son argument par 2 et l'affiche\"\"\"\n",
    "    print(x*2)\n",
    "\n",
    "help(multiplie)\n",
    "multiplie(7)\n",
    "multiplie(\"aaa\")"
   ],
   "outputs": [
    {
     "output_type": "stream",
     "name": "stdout",
     "text": [
      "Help on function multiplie in module __main__:\n",
      "\n",
      "multiplie(x)\n",
      "    Cette fonction multiplie son argument par 2 et l'affiche\n",
      "\n",
      "14\n",
      "aaaaaa\n"
     ]
    }
   ],
   "metadata": {
    "slideshow": {
     "slide_type": "fragment"
    }
   }
  },
  {
   "cell_type": "code",
   "execution_count": 10,
   "source": [
    "#Que fait ce code si on l'exécute ?\n",
    "def incremente(x):\n",
    "    x +=  1\n",
    "    z = 2\n",
    "\n",
    "incremente(2)\n",
    "print(x)\n",
    "#print(z)\n"
   ],
   "outputs": [
    {
     "output_type": "error",
     "ename": "NameError",
     "evalue": "name 'x' is not defined",
     "traceback": [
      "\u001b[0;31m---------------------------------------------------------------------------\u001b[0m",
      "\u001b[0;31mNameError\u001b[0m                                 Traceback (most recent call last)",
      "\u001b[0;32m/var/folders/sm/hktwnky17fx62y88z0s3fh600000gn/T/ipykernel_70121/2790228331.py\u001b[0m in \u001b[0;36m<module>\u001b[0;34m\u001b[0m\n\u001b[1;32m      5\u001b[0m \u001b[0;34m\u001b[0m\u001b[0m\n\u001b[1;32m      6\u001b[0m \u001b[0mincremente\u001b[0m\u001b[0;34m(\u001b[0m\u001b[0;36m2\u001b[0m\u001b[0;34m)\u001b[0m\u001b[0;34m\u001b[0m\u001b[0;34m\u001b[0m\u001b[0m\n\u001b[0;32m----> 7\u001b[0;31m \u001b[0mprint\u001b[0m\u001b[0;34m(\u001b[0m\u001b[0mx\u001b[0m\u001b[0;34m)\u001b[0m\u001b[0;34m\u001b[0m\u001b[0;34m\u001b[0m\u001b[0m\n\u001b[0m\u001b[1;32m      8\u001b[0m \u001b[0;31m#print(z)\u001b[0m\u001b[0;34m\u001b[0m\u001b[0;34m\u001b[0m\u001b[0m\n",
      "\u001b[0;31mNameError\u001b[0m: name 'x' is not defined"
     ]
    }
   ],
   "metadata": {
    "slideshow": {
     "slide_type": "subslide"
    }
   }
  },
  {
   "cell_type": "markdown",
   "source": [
    "Les variables définies dans une fonction sont appelées **variables locales**. \n",
    "\n",
    "La portée d'une variable locale est limitée à la fonction où elle a été définie, \n",
    "on ne peut pas y faire référence en dehors."
   ],
   "metadata": {
    "slideshow": {
     "slide_type": "fragment"
    }
   }
  },
  {
   "cell_type": "markdown",
   "source": [
    "Les fonctions retournent une **valeur**, celle donnée après le mot clé `return`.\n",
    "Même les fonctions qui n'ont pas d'instruction return, ou qui terminent en finissant d'exécuter le bloc de code\n",
    "sans atteindre un return, retournent la valeur `None`.\n"
   ],
   "metadata": {
    "slideshow": {
     "slide_type": "subslide"
    }
   }
  },
  {
   "cell_type": "code",
   "execution_count": 11,
   "source": [
    "def avec_retour(x):\n",
    "    return x + 1\n",
    "\n",
    "def sans_retour(x):\n",
    "    x = x + 1\n",
    "    \n",
    "print(type(avec_retour(0)),avec_retour(0))\n",
    "print(type(sans_retour(0)),sans_retour(0))\n"
   ],
   "outputs": [
    {
     "output_type": "stream",
     "name": "stdout",
     "text": [
      "<class 'int'> 1\n",
      "<class 'NoneType'> None\n"
     ]
    }
   ],
   "metadata": {
    "slideshow": {
     "slide_type": "fragment"
    }
   }
  },
  {
   "cell_type": "markdown",
   "source": [
    "**Attention**, une fonction termine dès qu'elle atteint le mot clé `return`.\n",
    "C'est utile pour gérer le flot d'exécution d'une fonction."
   ],
   "metadata": {
    "slideshow": {
     "slide_type": "subslide"
    }
   }
  },
  {
   "cell_type": "code",
   "execution_count": 12,
   "source": [
    "def un():\n",
    "    return 1\n",
    "    print(\"je ne serai jamais atteint\")\n",
    "    \n",
    "    \n",
    "un()\n",
    "\n",
    "def cherche(x,l):\n",
    "    for elem in l:\n",
    "        1 / elem #erreur quand elem vaut 0\n",
    "        if(x == elem):\n",
    "            return 1\n",
    "    return 0\n",
    "\n",
    "cherche(10, [1,10,0]) #la valeur 0 n'est pas atteinte car on trouve 10 avant\n"
   ],
   "outputs": [
    {
     "output_type": "execute_result",
     "data": {
      "text/plain": [
       "1"
      ]
     },
     "metadata": {},
     "execution_count": 12
    }
   ],
   "metadata": {
    "slideshow": {
     "slide_type": "fragment"
    }
   }
  },
  {
   "cell_type": "markdown",
   "source": [
    "En Python, on peut utiliser des types de retour complexes (contrairement à C par exemple).\n",
    "\n",
    "On peut par exemple renvoyer des tuples de valeurs, ce qui est souvent pratique."
   ],
   "metadata": {
    "slideshow": {
     "slide_type": "subslide"
    }
   }
  },
  {
   "cell_type": "code",
   "execution_count": 13,
   "source": [
    "def ordonne(a, b):\n",
    "    if a < b:\n",
    "        return a, b\n",
    "    else:\n",
    "        return b, a\n",
    "    \n",
    "print(ordonne(10, 5))"
   ],
   "outputs": [
    {
     "output_type": "stream",
     "name": "stdout",
     "text": [
      "(5, 10)\n"
     ]
    }
   ],
   "metadata": {
    "slideshow": {
     "slide_type": "fragment"
    }
   }
  },
  {
   "cell_type": "markdown",
   "source": [
    "## 3. Évaluation d'une fonction\n",
    "\n",
    "* les arguments sont des variables locales à la fonction\n",
    "* les arguments sont passés par la copie d'une référence sur l'objet donné en argument\n",
    "* le corps de la fonction est évalué comme un code normal et la fonction se termine soit à la fin du bloc de code indenté, soit quand une instruction `return` est atteinte\n",
    "* la fonction peut appeler une autre fonction ou elle-même (récursivité)\n"
   ],
   "metadata": {
    "slideshow": {
     "slide_type": "slide"
    }
   }
  },
  {
   "cell_type": "markdown",
   "source": [
    "On va illustrer l'appel de fonction en en exécutant un pas à pas grâce à:\n",
    "\n",
    "* [PythonTutor](http://pythontutor.com/visualize.html#mode=edit)\n",
    "* le debugger dans VS Code"
   ],
   "metadata": {
    "slideshow": {
     "slide_type": "subslide"
    }
   }
  },
  {
   "cell_type": "code",
   "execution_count": 14,
   "source": [
    "#Évaluation, exécuté avec PythonTutor\n",
    "#Cas d'un objet immutable\n",
    "\n",
    "def incremente(x):\n",
    "    x += 1\n",
    "    \n",
    "y = 0\n",
    "incremente(y)\n",
    "print(y)\n"
   ],
   "outputs": [
    {
     "output_type": "stream",
     "name": "stdout",
     "text": [
      "0\n"
     ]
    }
   ],
   "metadata": {
    "slideshow": {
     "slide_type": "subslide"
    }
   }
  },
  {
   "cell_type": "code",
   "execution_count": 15,
   "source": [
    "# Référence sur une liste, on peut modifier son contenu (objet mutable)  \n",
    "def incrementeListe(l):\n",
    "    for i in range(len(l)):\n",
    "        l[i] += 1\n",
    "\n",
    "l = [3,4,5]\n",
    "incrementeListe(l)\n",
    "print(l)"
   ],
   "outputs": [
    {
     "output_type": "stream",
     "name": "stdout",
     "text": [
      "[4, 5, 6]\n"
     ]
    }
   ],
   "metadata": {
    "slideshow": {
     "slide_type": "fragment"
    }
   }
  },
  {
   "cell_type": "code",
   "execution_count": 16,
   "source": [
    "# Référence sur une liste, on ne peut pas modifier la liste elle même\n",
    "def supprimeListe(l):\n",
    "    l = []\n",
    "\n",
    "l = [3,4,5]\n",
    "supprimeListe(l)\n",
    "print(l)"
   ],
   "outputs": [
    {
     "output_type": "stream",
     "name": "stdout",
     "text": [
      "[3, 4, 5]\n"
     ]
    }
   ],
   "metadata": {
    "slideshow": {
     "slide_type": "fragment"
    }
   }
  },
  {
   "cell_type": "markdown",
   "source": [
    "Les variables définies hors des fonctions sont **globales** par opposition aux variables **locales** des fonctions. On peut les utiliser dans toutes les fonctions *sauf si elles ont été redéfinies localement*. \n",
    "\n",
    "Par contre on ne peut pas changer leur valeur à l'intérieur d'une fonction, sauf à spécifier dans la fonction\n",
    "que la variable est globale par le mot clé `global`.\n",
    " \n",
    "Il est *déconseillé* de faire usage de ce mot clé et des variables globales en général."
   ],
   "metadata": {
    "slideshow": {
     "slide_type": "subslide"
    }
   }
  },
  {
   "cell_type": "code",
   "execution_count": 17,
   "source": [
    "x = 1\n",
    "print(x)\n",
    "\n",
    "def affiche(): #utilisation d'une variable globale\n",
    "    print(x)\n",
    "    \n",
    "x += 3\n",
    "affiche()\n",
    "\n",
    "def ajoute(): #modification d'une variable globale\n",
    "    x += 1\n",
    "\n",
    "def multiplie():  #modification d'une variable globale en précisant qu'elle est globale dans le code\n",
    "    global x\n",
    "    x *= 2\n",
    "    \n",
    "ajoute()\n",
    "print(x)\n",
    "multiplie()\n",
    "print(x)"
   ],
   "outputs": [
    {
     "output_type": "stream",
     "name": "stdout",
     "text": [
      "1\n",
      "4\n"
     ]
    },
    {
     "output_type": "error",
     "ename": "UnboundLocalError",
     "evalue": "local variable 'x' referenced before assignment",
     "traceback": [
      "\u001b[0;31m---------------------------------------------------------------------------\u001b[0m",
      "\u001b[0;31mUnboundLocalError\u001b[0m                         Traceback (most recent call last)",
      "\u001b[0;32m/var/folders/sm/hktwnky17fx62y88z0s3fh600000gn/T/ipykernel_70121/2454552641.py\u001b[0m in \u001b[0;36m<module>\u001b[0;34m\u001b[0m\n\u001b[1;32m     15\u001b[0m     \u001b[0mx\u001b[0m \u001b[0;34m*=\u001b[0m \u001b[0;36m2\u001b[0m\u001b[0;34m\u001b[0m\u001b[0;34m\u001b[0m\u001b[0m\n\u001b[1;32m     16\u001b[0m \u001b[0;34m\u001b[0m\u001b[0m\n\u001b[0;32m---> 17\u001b[0;31m \u001b[0majoute\u001b[0m\u001b[0;34m(\u001b[0m\u001b[0;34m)\u001b[0m\u001b[0;34m\u001b[0m\u001b[0;34m\u001b[0m\u001b[0m\n\u001b[0m\u001b[1;32m     18\u001b[0m \u001b[0mprint\u001b[0m\u001b[0;34m(\u001b[0m\u001b[0mx\u001b[0m\u001b[0;34m)\u001b[0m\u001b[0;34m\u001b[0m\u001b[0;34m\u001b[0m\u001b[0m\n\u001b[1;32m     19\u001b[0m \u001b[0mmultiplie\u001b[0m\u001b[0;34m(\u001b[0m\u001b[0;34m)\u001b[0m\u001b[0;34m\u001b[0m\u001b[0;34m\u001b[0m\u001b[0m\n",
      "\u001b[0;32m/var/folders/sm/hktwnky17fx62y88z0s3fh600000gn/T/ipykernel_70121/2454552641.py\u001b[0m in \u001b[0;36majoute\u001b[0;34m()\u001b[0m\n\u001b[1;32m      9\u001b[0m \u001b[0;34m\u001b[0m\u001b[0m\n\u001b[1;32m     10\u001b[0m \u001b[0;32mdef\u001b[0m \u001b[0majoute\u001b[0m\u001b[0;34m(\u001b[0m\u001b[0;34m)\u001b[0m\u001b[0;34m:\u001b[0m \u001b[0;31m#modification d'une variable globale\u001b[0m\u001b[0;34m\u001b[0m\u001b[0;34m\u001b[0m\u001b[0m\n\u001b[0;32m---> 11\u001b[0;31m     \u001b[0mx\u001b[0m \u001b[0;34m+=\u001b[0m \u001b[0;36m1\u001b[0m\u001b[0;34m\u001b[0m\u001b[0;34m\u001b[0m\u001b[0m\n\u001b[0m\u001b[1;32m     12\u001b[0m \u001b[0;34m\u001b[0m\u001b[0m\n\u001b[1;32m     13\u001b[0m \u001b[0;32mdef\u001b[0m \u001b[0mmultiplie\u001b[0m\u001b[0;34m(\u001b[0m\u001b[0;34m)\u001b[0m\u001b[0;34m:\u001b[0m  \u001b[0;31m#modification d'une variable globale en précisant qu'elle est globale dans le code\u001b[0m\u001b[0;34m\u001b[0m\u001b[0;34m\u001b[0m\u001b[0m\n",
      "\u001b[0;31mUnboundLocalError\u001b[0m: local variable 'x' referenced before assignment"
     ]
    }
   ],
   "metadata": {
    "slideshow": {
     "slide_type": "fragment"
    }
   }
  },
  {
   "cell_type": "markdown",
   "source": [
    "## 4. Représentation des arguments dans un appel de fonction\n",
    "\n",
    "On peut donner des valeurs par défaut aux arguments d'une fonction\n",
    "de la manière suivante `def ma_fonction(pays, age = 1, nom = \"toto\")`.\n",
    "\n",
    "Les variables ayant une valeur par défaut peuvent être omises.\n",
    "\n"
   ],
   "metadata": {
    "slideshow": {
     "slide_type": "slide"
    }
   }
  },
  {
   "cell_type": "code",
   "execution_count": 18,
   "source": [
    "def ma_fonction(pays, age = 1, nom = \"toto\"):\n",
    "    print(nom,\" a \", age, \"ans et vit en \", pays)\n",
    "    \n",
    "ma_fonction(\"france\")\n",
    "ma_fonction(\"allemagne\", 18, \"kurt\")\n",
    "ma_fonction(\"italie\", 77)"
   ],
   "outputs": [
    {
     "output_type": "stream",
     "name": "stdout",
     "text": [
      "toto  a  1 ans et vit en  france\n",
      "kurt  a  18 ans et vit en  allemagne\n",
      "toto  a  77 ans et vit en  italie\n"
     ]
    }
   ],
   "metadata": {
    "slideshow": {
     "slide_type": "fragment"
    }
   }
  },
  {
   "cell_type": "markdown",
   "source": [
    "On peut également donner les arguments dans le désordre en spécifiant leur nom."
   ],
   "metadata": {
    "slideshow": {
     "slide_type": "subslide"
    }
   }
  },
  {
   "cell_type": "code",
   "execution_count": null,
   "source": [
    "ma_fonction(nom = \"kader\", age = 18, pays = \"algérie\")\n",
    "ma_fonction(\"france\", nom = \"sylvie\")"
   ],
   "outputs": [],
   "metadata": {
    "slideshow": {
     "slide_type": "fragment"
    }
   }
  },
  {
   "cell_type": "markdown",
   "source": [
    "Il est possible d'utiliser une liste d'arguments de taille variable. Néanmoins,\n",
    "ce sujet plus avancé et optionnel ne sera pas abordé en première année. \n"
   ],
   "metadata": {
    "slideshow": {
     "slide_type": "notes"
    }
   }
  },
  {
   "cell_type": "markdown",
   "source": [
    "## 5. Fonctions anonymes: lambda expressions\n",
    "\n",
    "\n",
    "Pour définir une fonction courte, il existe une syntaxe alternative utilisant l'opérateur **lambda**.\n"
   ],
   "metadata": {
    "slideshow": {
     "slide_type": "slide"
    }
   }
  },
  {
   "cell_type": "code",
   "execution_count": 19,
   "source": [
    "g = lambda x: x*2  \n",
    "print(g(2))\n",
    "\n",
    "#Attention la définition doit tenir sur une ligne. On ne peut pas utiliser des instructions de contrôle\n",
    "#dans la définition de la fonction.\n",
    "\n",
    "#h = lambda x: if x > 0:\n",
    "#                  return 1\n",
    "#              else:\n",
    "#                  return -1"
   ],
   "outputs": [
    {
     "output_type": "stream",
     "name": "stdout",
     "text": [
      "4\n"
     ]
    }
   ],
   "metadata": {
    "slideshow": {
     "slide_type": "fragment"
    }
   }
  },
  {
   "cell_type": "markdown",
   "source": [
    "La fonction définie par un lambda est *anonyme*, c'est à dire qu'elle n'a pas de nom.\n",
    "C'est utile quand la fonction sert une seule fois, par exemple comme argument d'une autre fonction."
   ],
   "metadata": {
    "slideshow": {
     "slide_type": "subslide"
    }
   }
  },
  {
   "cell_type": "code",
   "execution_count": 20,
   "source": [
    "\n",
    "print((lambda x: x*2)(3))\n",
    "\n",
    "list(map(lambda x: x*2,range(10)))#applique la fonction à chaque élément de range(10)\n"
   ],
   "outputs": [
    {
     "output_type": "stream",
     "name": "stdout",
     "text": [
      "6\n"
     ]
    },
    {
     "output_type": "execute_result",
     "data": {
      "text/plain": [
       "[0, 2, 4, 6, 8, 10, 12, 14, 16, 18]"
      ]
     },
     "metadata": {},
     "execution_count": 20
    }
   ],
   "metadata": {
    "slideshow": {
     "slide_type": "fragment"
    }
   }
  },
  {
   "cell_type": "code",
   "execution_count": null,
   "source": [],
   "outputs": [],
   "metadata": {}
  }
 ],
 "metadata": {
  "celltoolbar": "Diaporama",
  "kernelspec": {
   "name": "python3",
   "display_name": "Python 3.9.7 64-bit ('l1-python': conda)"
  },
  "language_info": {
   "codemirror_mode": {
    "name": "ipython",
    "version": 3
   },
   "file_extension": ".py",
   "mimetype": "text/x-python",
   "name": "python",
   "nbconvert_exporter": "python",
   "pygments_lexer": "ipython3",
   "version": "3.9.7"
  },
  "interpreter": {
   "hash": "ec862206d8405247e3003360a092d3abf3ebcc1b865015b16225ca27bd9434a9"
  }
 },
 "nbformat": 4,
 "nbformat_minor": 1
}