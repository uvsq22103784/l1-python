{
 "cells": [
  {
   "cell_type": "markdown",
   "source": [
    "# Listes"
   ],
   "metadata": {
    "slideshow": {
     "slide_type": "slide"
    }
   }
  },
  {
   "cell_type": "markdown",
   "source": [
    "Une **liste** est une structure de données contenant une série d'éléments, où la position de chaque élément compte.\n",
    "\n",
    "En Python, une liste est créée en plaçant des éléments entre **crochets** `[]` et en les séparant par des *virgules*."
   ],
   "metadata": {
    "slideshow": {
     "slide_type": "slide"
    }
   }
  },
  {
   "cell_type": "code",
   "execution_count": null,
   "source": [
    "# Liste des capitales européennes\n",
    "capitales = [\"Paris\", \"Berlin\", \"Madrid\", \"Athènes\", \"Zagreb\", \"Rome\", \"Amsterdam\"]\n",
    "capitales"
   ],
   "outputs": [],
   "metadata": {
    "slideshow": {
     "slide_type": "fragment"
    }
   }
  },
  {
   "cell_type": "code",
   "execution_count": null,
   "source": [
    "# Liste d'entiers\n",
    "entiers = [5, 0, 17, 42, 23]\n",
    "entiers"
   ],
   "outputs": [],
   "metadata": {
    "slideshow": {
     "slide_type": "fragment"
    }
   }
  },
  {
   "cell_type": "markdown",
   "source": [
    "La construction de listes en Python est très *flexible*.\n",
    "\n",
    "Il est possible de créer des listes contenant des valeurs de **types différents**."
   ],
   "metadata": {
    "slideshow": {
     "slide_type": "subslide"
    }
   }
  },
  {
   "cell_type": "code",
   "execution_count": null,
   "source": [
    "# Liste mixte\n",
    "mixte = [7, \"tennis\", True, 5.3]"
   ],
   "outputs": [],
   "metadata": {
    "slideshow": {
     "slide_type": "fragment"
    }
   }
  },
  {
   "cell_type": "markdown",
   "source": [
    "Cette liste contient à la fois des valeurs de type `int`, `string`, `boolean` et `float`."
   ],
   "metadata": {
    "slideshow": {
     "slide_type": "fragment"
    }
   }
  },
  {
   "cell_type": "markdown",
   "source": [
    "### La fonction `len()`\n",
    "\n",
    "* La fonction `len()` nous permet de connaître le nombre d'éléments dans une liste."
   ],
   "metadata": {
    "slideshow": {
     "slide_type": "slide"
    }
   }
  },
  {
   "cell_type": "code",
   "execution_count": null,
   "source": [
    "liste = [0, 1, 2, 3, 4, 5, 6, 7, 8, 9]\n",
    "print(\"La liste contient\", len(liste), \"éléments.\")"
   ],
   "outputs": [],
   "metadata": {
    "slideshow": {
     "slide_type": "fragment"
    }
   }
  },
  {
   "cell_type": "code",
   "execution_count": null,
   "source": [
    "len([5.3, -0.1, 4.5, 7.7])"
   ],
   "outputs": [],
   "metadata": {
    "slideshow": {
     "slide_type": "fragment"
    }
   }
  },
  {
   "cell_type": "markdown",
   "source": [
    "**Remarque** La fonction `len()` n'est pas propre aux listes et peut s'appliquer à différents types d'objets."
   ],
   "metadata": {
    "slideshow": {
     "slide_type": "fragment"
    }
   }
  },
  {
   "cell_type": "code",
   "execution_count": null,
   "source": [
    "chaine = 'abracadabra'\n",
    "print(len(chaine))"
   ],
   "outputs": [],
   "metadata": {
    "slideshow": {
     "slide_type": "fragment"
    }
   }
  },
  {
   "cell_type": "markdown",
   "source": [
    "## Accéder aux éléments d'une liste\n",
    "\n",
    "* On peut accéder aux éléments d'une liste par leur **indice**.\n"
   ],
   "metadata": {
    "slideshow": {
     "slide_type": "slide"
    }
   }
  },
  {
   "cell_type": "raw",
   "source": [
    "liste  : [\"bus\", \"voiture\", \"vélo\", \"trotinette\"]\n",
    "\n",
    "indice :    0       1         2         3"
   ],
   "metadata": {
    "slideshow": {
     "slide_type": "fragment"
    }
   }
  },
  {
   "cell_type": "markdown",
   "source": [
    "* L'indice est la **position** d'un élément dans la liste.\n",
    "* Pour une liste de $n$ éléments, les indices vont de 0 à $n-1$.\n",
    "* Les indices doivent être des nombres **entiers**."
   ],
   "metadata": {
    "slideshow": {
     "slide_type": "fragment"
    }
   }
  },
  {
   "cell_type": "code",
   "execution_count": null,
   "source": [
    "liste = [\"bus\", \"voiture\", \"vélo\", \"trotinette\"]\n",
    "\n",
    "print(liste[0])\n",
    "print(liste[2])"
   ],
   "outputs": [],
   "metadata": {
    "slideshow": {
     "slide_type": "subslide"
    }
   }
  },
  {
   "cell_type": "markdown",
   "source": [
    "Attention à ne pas accèder aux indices non-autorisés !"
   ],
   "metadata": {
    "slideshow": {
     "slide_type": "fragment"
    }
   }
  },
  {
   "cell_type": "code",
   "execution_count": null,
   "source": [
    "print(liste[4])"
   ],
   "outputs": [],
   "metadata": {
    "slideshow": {
     "slide_type": "fragment"
    }
   }
  },
  {
   "cell_type": "markdown",
   "source": [
    "### Indiçage négatif"
   ],
   "metadata": {
    "slideshow": {
     "slide_type": "subslide"
    }
   }
  },
  {
   "cell_type": "raw",
   "source": [
    "liste          : [\"bus\", \"voiture\", \"vélo\", \"trotinette\"]\n",
    "indice positif :    0       1         2         3\n",
    "indice négatif :   -4      -3        -2        -1 "
   ],
   "metadata": {
    "slideshow": {
     "slide_type": "fragment"
    }
   }
  },
  {
   "cell_type": "code",
   "execution_count": null,
   "source": [
    "liste = [\"bus\", \"voiture\", \"vélo\", \"trotinette\"]\n",
    "print(liste[-1])\n",
    "print(liste[-2])\n",
    "print(liste[0],liste[-4])"
   ],
   "outputs": [],
   "metadata": {
    "slideshow": {
     "slide_type": "fragment"
    }
   }
  },
  {
   "cell_type": "markdown",
   "source": [
    "* Chaque élément d'une liste de longueur $n$ a deux indices :\n",
    "    * un indice positif $i$ \n",
    "    * un indice négatif $i - n$\n",
    "* L'indiçage négatif revient à compter de la fin.\n",
    "* **Avantage** : Accèder au dernier ou avant-dernier élément de la liste, sans connaître sa longueur (indices -1 et -2 respectivement)"
   ],
   "metadata": {
    "slideshow": {
     "slide_type": "fragment"
    }
   }
  },
  {
   "cell_type": "markdown",
   "source": [
    "### Tranches\n",
    "\n",
    "On peut accéder à une partie (une **tranche**) d'une liste L en utilisant des indices :\n",
    "\n",
    "* `L[m:n]` donne accès aux éléments `L[m], L[m+1],..., L[n-1]`"
   ],
   "metadata": {
    "slideshow": {
     "slide_type": "subslide"
    }
   }
  },
  {
   "cell_type": "code",
   "execution_count": 4,
   "source": [
    "liste = [2, 3, 5, 7, 11, 13, 17, 19, 21, 23]"
   ],
   "outputs": [],
   "metadata": {
    "slideshow": {
     "slide_type": "fragment"
    }
   }
  },
  {
   "cell_type": "code",
   "execution_count": 5,
   "source": [
    "print(liste[2:6])\n",
    "print(liste[-8:-4])"
   ],
   "outputs": [
    {
     "output_type": "stream",
     "name": "stdout",
     "text": [
      "[5, 7, 11, 13]\n",
      "[5, 7, 11, 13]\n"
     ]
    }
   ],
   "metadata": {
    "slideshow": {
     "slide_type": "fragment"
    }
   }
  },
  {
   "cell_type": "code",
   "execution_count": 6,
   "source": [
    "liste[3:]"
   ],
   "outputs": [
    {
     "output_type": "execute_result",
     "data": {
      "text/plain": [
       "[7, 11, 13, 17, 19, 21, 23]"
      ]
     },
     "metadata": {},
     "execution_count": 6
    }
   ],
   "metadata": {
    "slideshow": {
     "slide_type": "fragment"
    }
   }
  },
  {
   "cell_type": "code",
   "execution_count": 7,
   "source": [
    "liste[:5]"
   ],
   "outputs": [
    {
     "output_type": "execute_result",
     "data": {
      "text/plain": [
       "[2, 3, 5, 7, 11]"
      ]
     },
     "metadata": {},
     "execution_count": 7
    }
   ],
   "metadata": {
    "slideshow": {
     "slide_type": "fragment"
    }
   }
  },
  {
   "cell_type": "code",
   "execution_count": 8,
   "source": [
    "liste[:-3]"
   ],
   "outputs": [
    {
     "output_type": "execute_result",
     "data": {
      "text/plain": [
       "[2, 3, 5, 7, 11, 13, 17]"
      ]
     },
     "metadata": {},
     "execution_count": 8
    }
   ],
   "metadata": {
    "slideshow": {
     "slide_type": "fragment"
    }
   }
  },
  {
   "cell_type": "markdown",
   "source": [
    "* Si aucun indice n’est indiqué à gauche ou à droite de ':' tous les éléments depuis le début ou tous les éléments jusqu’à la fin respectivement sont pris par défaut."
   ],
   "metadata": {
    "slideshow": {
     "slide_type": "fragment"
    }
   }
  },
  {
   "cell_type": "markdown",
   "source": [
    "Il est possible d'indiquer un **pas** (step) en ajoutant un symbole supplémentaire : `[m:n:step]`\n",
    "\n",
    "* Par défaut, si pas indiqué, le pas est de 1."
   ],
   "metadata": {
    "slideshow": {
     "slide_type": "subslide"
    }
   }
  },
  {
   "cell_type": "code",
   "execution_count": null,
   "source": [
    "liste = [2, 3, 5, 7, 11, 13, 17, 19, 21, 23]\n",
    "liste[2:8:2]"
   ],
   "outputs": [],
   "metadata": {
    "slideshow": {
     "slide_type": "fragment"
    }
   }
  },
  {
   "cell_type": "code",
   "execution_count": null,
   "source": [
    "liste[::3] "
   ],
   "outputs": [],
   "metadata": {
    "slideshow": {
     "slide_type": "fragment"
    }
   }
  },
  {
   "cell_type": "code",
   "execution_count": null,
   "source": [
    "liste[::-2]\n",
    "liste[::11]"
   ],
   "outputs": [],
   "metadata": {
    "slideshow": {
     "slide_type": "fragment"
    }
   }
  },
  {
   "cell_type": "markdown",
   "source": [
    "**Exercice:** Créer une fonction qui prend en entrée une liste et qui renvoie une nouvelle liste, correspondant à la liste inversée. Seules les opérations sur les *tranches* de liste sont admises."
   ],
   "metadata": {
    "slideshow": {
     "slide_type": "subslide"
    }
   }
  },
  {
   "cell_type": "code",
   "execution_count": null,
   "source": [
    "def inverseListe (l):\n",
    "    \"\"\"Renvoie une liste dont les éléments sont les éléments de l dans l'ordre inverse\"\"\"\n",
    "    return l[::-1]\n",
    "\n",
    "inverseListe([1,2,3,4,5])"
   ],
   "outputs": [],
   "metadata": {
    "slideshow": {
     "slide_type": "fragment"
    }
   }
  },
  {
   "cell_type": "code",
   "execution_count": null,
   "source": [
    "def inverser_liste(l) :\n",
    "    \"\"\"Fonction qui prend en entrée une liste et qui renvoie la liste renversée.\"\"\"\n",
    "    return l[::-1]\n",
    "\n",
    "l = [1, 2, 3, 4]\n",
    "l_inverse = inverser_liste(l)\n",
    "print(l_inverse)"
   ],
   "outputs": [],
   "metadata": {
    "slideshow": {
     "slide_type": "notes"
    }
   }
  },
  {
   "cell_type": "markdown",
   "source": [
    "### Création de liste à l'aide de `list()` et `range()`\n",
    "\n",
    "* On peut utiliser l'instruction `range()` pour génerer des nombres entiers dans un intervalle.\n",
    "* En combinaison avec la fonction `list()`, elle permet de générer une liste d’entiers."
   ],
   "metadata": {
    "slideshow": {
     "slide_type": "slide"
    }
   }
  },
  {
   "cell_type": "code",
   "execution_count": null,
   "source": [
    "# Générer une liste d'entiers de 1 à 9\n",
    "print(list(range(1, 10)))\n",
    "print(range(1,10))"
   ],
   "outputs": [],
   "metadata": {
    "slideshow": {
     "slide_type": "fragment"
    }
   }
  },
  {
   "cell_type": "markdown",
   "source": [
    "**Exercice :** Écrire un programme qui demande à l'utilisateur de donner un entier $m$ et qui affiche la table de multiplication de $m$ en une seule commande avec les instructions range() et list()."
   ],
   "metadata": {
    "slideshow": {
     "slide_type": "slide"
    }
   }
  },
  {
   "cell_type": "code",
   "execution_count": null,
   "source": [
    "m = int(input(\"Donner un entier\"))\n",
    "\n",
    "print(list(range(0,10*m,m)))"
   ],
   "outputs": [],
   "metadata": {
    "slideshow": {
     "slide_type": "fragment"
    }
   }
  },
  {
   "cell_type": "code",
   "execution_count": null,
   "source": [
    "m = int(input(\"Pour quel entier voulez-vous voir la table de multiplication ?\"))\n",
    "print(list(m*i for i in range(11)))"
   ],
   "outputs": [],
   "metadata": {
    "slideshow": {
     "slide_type": "notes"
    }
   }
  },
  {
   "cell_type": "markdown",
   "source": [
    "## Modifier ou ajouter des éléments dans une liste\n",
    "\n",
    "Les listes sont des objets **mutables**. Leurs éléments peuvent donc être modifiés.\n",
    "\n",
    "On peut utiliser l'opérateur `=` pour modifier un élément ou une tranche d'éléments dans une liste.\n",
    "\n",
    "En écrivant `liste[i] = nouvel_element`, l'élément de la liste à l'indice `i` est replacé par `nouvel_element`."
   ],
   "metadata": {
    "slideshow": {
     "slide_type": "slide"
    }
   }
  },
  {
   "cell_type": "code",
   "execution_count": null,
   "source": [
    "capitales = [\"Paris\", \"Berlin\", \"Madrid\", \"Athènes\", \"Zagreb\", \"Rome\", \"Amsterdam\"]\n",
    "print(capitales)"
   ],
   "outputs": [],
   "metadata": {
    "slideshow": {
     "slide_type": "fragment"
    }
   }
  },
  {
   "cell_type": "markdown",
   "source": [
    "Modifier la capitale à l'indice 2 par \"Copenhague\"."
   ],
   "metadata": {
    "slideshow": {
     "slide_type": "fragment"
    }
   }
  },
  {
   "cell_type": "code",
   "execution_count": null,
   "source": [
    "capitales[2] = \"Copenhague\"\n",
    "print(capitales)"
   ],
   "outputs": [],
   "metadata": {
    "slideshow": {
     "slide_type": "fragment"
    }
   }
  },
  {
   "cell_type": "markdown",
   "source": [
    "Que fait l'instruction suivante ?"
   ],
   "metadata": {
    "slideshow": {
     "slide_type": "subslide"
    }
   }
  },
  {
   "cell_type": "code",
   "execution_count": null,
   "source": [
    "capitales = [\"Paris\", \"Berlin\", \"Madrid\", \"Athènes\", \"Zagreb\", \"Rome\", \"Amsterdam\"]\n",
    "capitales[4:7] = [\"Dublin\", \"Budapest\", \"Vienne\"]\n",
    "print(capitales)"
   ],
   "outputs": [],
   "metadata": {
    "slideshow": {
     "slide_type": "fragment"
    }
   }
  },
  {
   "cell_type": "markdown",
   "source": [
    "### La méthode `.append()`\n",
    "\n",
    "La méthode `.append()` permet d'ajouter un élément à la fin d'une liste."
   ],
   "metadata": {
    "slideshow": {
     "slide_type": "subslide"
    }
   }
  },
  {
   "cell_type": "code",
   "execution_count": 2,
   "source": [
    "capitales = [\"Paris\", \"Berlin\", \"Madrid\", \"Athènes\", \"Zagreb\", \"Rome\", \"Amsterdam\"]\n",
    "capitales.append(\"Bruxelles\")\n",
    "print(capitales)"
   ],
   "outputs": [
    {
     "output_type": "stream",
     "name": "stdout",
     "text": [
      "['Paris', 'Berlin', 'Madrid', 'Athènes', 'Zagreb', 'Rome', 'Amsterdam', 'Bruxelles']\n"
     ]
    }
   ],
   "metadata": {
    "slideshow": {
     "slide_type": "fragment"
    }
   }
  },
  {
   "cell_type": "markdown",
   "source": [
    "### La méthode `.extend()`\n",
    "\n",
    "La méthode `.extend()` permet d'ajouter plusieurs éléments à la fin d'une liste."
   ],
   "metadata": {
    "slideshow": {
     "slide_type": "subslide"
    }
   }
  },
  {
   "cell_type": "code",
   "execution_count": 1,
   "source": [
    "capitales = [\"Paris\", \"Berlin\", \"Madrid\", \"Athènes\", \"Zagreb\", \"Rome\"]\n",
    "capitales.extend([\"Bruxelles\", \"Oslo\"])\n",
    "print(capitales)"
   ],
   "outputs": [
    {
     "output_type": "stream",
     "name": "stdout",
     "text": [
      "['Paris', 'Berlin', 'Madrid', 'Athènes', 'Zagreb', 'Rome', 'Bruxelles', 'Oslo']\n"
     ]
    }
   ],
   "metadata": {
    "slideshow": {
     "slide_type": "fragment"
    }
   }
  },
  {
   "cell_type": "markdown",
   "source": [
    "### Concaténer deux listes\n",
    "\n",
    "On peut concaténer deux listes avec l'opérateur `+`."
   ],
   "metadata": {
    "slideshow": {
     "slide_type": "subslide"
    }
   }
  },
  {
   "cell_type": "code",
   "execution_count": null,
   "source": [
    "capitales1 = [\"Paris\", \"Berlin\", \"Madrid\", \"Athènes\", \"Zagreb\", \"Rome\"]\n",
    "capitales2 = [\"Bruxelles\", \"Oslo\"]\n",
    "\n",
    "print(capitales1 + capitales2)\n",
    "print(capitales1)  "
   ],
   "outputs": [],
   "metadata": {
    "slideshow": {
     "slide_type": "fragment"
    }
   }
  },
  {
   "cell_type": "markdown",
   "source": [
    "### La méthode `.insert()`\n",
    "\n",
    "La méthode `.insert()` permet d'insérer un élément à une position (indice) concrete."
   ],
   "metadata": {
    "slideshow": {
     "slide_type": "subslide"
    }
   }
  },
  {
   "cell_type": "code",
   "execution_count": null,
   "source": [
    "capitales = [\"Paris\", \"Berlin\", \"Madrid\", \"Athènes\", \"Zagreb\", \"Rome\"]\n",
    "capitales.insert(1,\"Lisbonne\")\n",
    "print(capitales)\n"
   ],
   "outputs": [],
   "metadata": {
    "slideshow": {
     "slide_type": "fragment"
    }
   }
  },
  {
   "cell_type": "markdown",
   "source": [
    "### L'instruction `del()` et la méthode `.remove()`\n",
    "\n",
    "L'instruction `del()` permet de supprimer un élément de la liste à un indice donné."
   ],
   "metadata": {
    "slideshow": {
     "slide_type": "subslide"
    }
   }
  },
  {
   "cell_type": "code",
   "execution_count": null,
   "source": [
    "capitales = [\"Paris\", \"Berlin\", \"Madrid\", \"Athènes\", \"Zagreb\", \"Rome\"]\n",
    "del capitales[1]\n",
    "print(capitales)"
   ],
   "outputs": [],
   "metadata": {
    "slideshow": {
     "slide_type": "fragment"
    }
   }
  },
  {
   "cell_type": "markdown",
   "source": [
    "La méthode `.remove()` permet de supprimer un élément de la liste à partir de sa valeur.\n",
    "\n",
    "* Ex. `liste.remove(\"5.5\")` supprime la valeur 5.5 de la liste."
   ],
   "metadata": {
    "slideshow": {
     "slide_type": "subslide"
    }
   }
  },
  {
   "cell_type": "code",
   "execution_count": null,
   "source": [
    "capitales = [\"Paris\", \"Berlin\", \"Madrid\", \"Athènes\", \"Zagreb\", \"Rome\"]\n",
    "capitales.remove(\"Madrid\")\n",
    "print(capitales)"
   ],
   "outputs": [],
   "metadata": {
    "slideshow": {
     "slide_type": "fragment"
    }
   }
  },
  {
   "cell_type": "code",
   "execution_count": null,
   "source": [
    "nombres = [1, 3, 3, 5, 4, 6, 7, 3]\n",
    "print(nombres)\n",
    "nombres.remove(3)\n",
    "print(nombres)"
   ],
   "outputs": [],
   "metadata": {
    "slideshow": {
     "slide_type": "fragment"
    }
   }
  },
  {
   "cell_type": "markdown",
   "source": [
    "**⚠️** Si un élément est présent **plusieurs fois** dans une liste, la méthode `.remove()` ne supprime que sa **première apparition**."
   ],
   "metadata": {
    "slideshow": {
     "slide_type": "fragment"
    }
   }
  },
  {
   "cell_type": "markdown",
   "source": [
    "### Les méthodes `.sort()`, `.reverse()` et `.count()`\n",
    "\n",
    "La méthode `.sort()` permet de trier une liste."
   ],
   "metadata": {
    "slideshow": {
     "slide_type": "slide"
    }
   }
  },
  {
   "cell_type": "code",
   "execution_count": 10,
   "source": [
    "nombres = [5, 3, 7, 4, 10, 9, 1]\n",
    "nombres.sort()\n",
    "print(nombres)"
   ],
   "outputs": [
    {
     "output_type": "stream",
     "name": "stdout",
     "text": [
      "[1, 3, 4, 5, 7, 9, 10]\n"
     ]
    }
   ],
   "metadata": {
    "slideshow": {
     "slide_type": "fragment"
    }
   }
  },
  {
   "cell_type": "markdown",
   "source": [
    "La méthode `.reverse()`permet d'inverser une liste."
   ],
   "metadata": {
    "slideshow": {
     "slide_type": "subslide"
    }
   }
  },
  {
   "cell_type": "code",
   "execution_count": null,
   "source": [
    "nombres = [5, 3, 7, 4, 10, 9, 1]\n",
    "nombres.reverse()\n",
    "print(nombres)"
   ],
   "outputs": [],
   "metadata": {
    "slideshow": {
     "slide_type": "fragment"
    }
   }
  },
  {
   "cell_type": "markdown",
   "source": [
    "La méthode `.count()` permet de compter le nombre d'apparitions d'un élément dans une liste."
   ],
   "metadata": {
    "slideshow": {
     "slide_type": "subslide"
    }
   }
  },
  {
   "cell_type": "code",
   "execution_count": null,
   "source": [
    "nombres = [1,3,3,6,2,5,7,2,3,4,3,2,3]\n",
    "print(nombres.count(3))\n",
    "print(nombres.count(2))"
   ],
   "outputs": [],
   "metadata": {
    "slideshow": {
     "slide_type": "fragment"
    }
   }
  },
  {
   "cell_type": "markdown",
   "source": [
    "**Remarques sur des méthodes associées aux listes.**\n",
    "\n",
    "* Les méthodes `.append()`, `.extend()`, `.sort()`, `reverse()` etc. modifient la liste mais ne renvoient rien (pas d'objet qu'on peut récupérer dans une variable.\n",
    "* On peut voir ces méthodes commes des fonctions qui font une action mais ne renvoient rien (`None`)."
   ],
   "metadata": {
    "slideshow": {
     "slide_type": "slide"
    }
   }
  },
  {
   "cell_type": "code",
   "execution_count": null,
   "source": [
    "liste = [1, 2, 3]\n",
    "liste2 = liste.append(4)\n",
    "print(liste)\n",
    "print(liste2)"
   ],
   "outputs": [],
   "metadata": {
    "slideshow": {
     "slide_type": "fragment"
    }
   }
  },
  {
   "cell_type": "markdown",
   "source": [
    "**Exercice :** Soit la liste de nombres `[4, 13, 42, 27, 31, 17, 21]`. Trier les nombres de cette liste par ordre croissant, sans utiliser la fonction `sort()` et stocker le résultat dans une nouvelle liste. Les fonctions et méthodes `min()`, `.append()` et `.remove()` vous seront utiles. "
   ],
   "metadata": {
    "slideshow": {
     "slide_type": "slide"
    }
   }
  },
  {
   "cell_type": "code",
   "execution_count": null,
   "source": [],
   "outputs": [],
   "metadata": {
    "slideshow": {
     "slide_type": "fragment"
    }
   }
  },
  {
   "cell_type": "code",
   "execution_count": null,
   "source": [
    "liste = [4, 13, 42, 27, 31, 17, 21]\n",
    "liste_triee = []\n",
    "\n",
    "while liste != [] :\n",
    "    m = min(liste)\n",
    "    liste_triee.append(m)\n",
    "    liste.remove(m)\n",
    "print(liste_triee)"
   ],
   "outputs": [],
   "metadata": {
    "slideshow": {
     "slide_type": "notes"
    }
   }
  },
  {
   "cell_type": "markdown",
   "source": [
    "**Exercice:** Compléter la fonction `compter_negatives()` qui prend en argument une liste des nombres et renvoie le nombre d'entrées négatives. Faites cela de deux façon différentes, une en utilisant une boucle et une sans."
   ],
   "metadata": {
    "slideshow": {
     "slide_type": "slide"
    }
   }
  },
  {
   "cell_type": "code",
   "execution_count": null,
   "source": [
    "def compter_negatives(nombres) :\n",
    "    \"\"\"Renvoie le nombre d'éléments < 0 de la liste passée en paramètre. \"\"\"\n",
    "    \n",
    "    # Utiliser une boucle\n",
    "    pass\n",
    "\n",
    "compter_negatives([3, -1, 1.5, 5, -6.3, -7.9, 2])\n",
    "    "
   ],
   "outputs": [],
   "metadata": {
    "slideshow": {
     "slide_type": "fragment"
    }
   }
  },
  {
   "cell_type": "code",
   "execution_count": null,
   "source": [
    "def compter_negatives(nombres) :\n",
    "    \"\"\"Renvoie le nombre d'éléments < 0 de la liste passée en paramètre. \"\"\"\n",
    "    compteur = 0\n",
    "    for i in range(len(nombres)) :\n",
    "        if(nombres[i] < 0) :\n",
    "            compteur += 1\n",
    "    return compteur\n",
    "\n",
    "compter_negatives([3, -1, 1.5, 5, -6.3, -7.9, 2])"
   ],
   "outputs": [],
   "metadata": {
    "slideshow": {
     "slide_type": "notes"
    }
   }
  },
  {
   "cell_type": "code",
   "execution_count": null,
   "source": [
    "def compter_negatives(nombres) :\n",
    "    \"\"\"Renvoie le nombre d'éléments < 0 de la liste passée en paramètre. \"\"\"\n",
    "    \n",
    "    # Sans utiliser de boucle\n",
    "    pass\n",
    "\n",
    "compter_negatives([3, -1, 1.5, 5, -6.3, -7.9, 2])"
   ],
   "outputs": [],
   "metadata": {
    "slideshow": {
     "slide_type": "fragment"
    }
   }
  },
  {
   "cell_type": "code",
   "execution_count": null,
   "source": [
    "def compter_negatives(nombres) :\n",
    "    \"\"\"Renvoie le nombre d'éléments < 0 de la liste passée en paramètre. \"\"\"\n",
    "    nombres.append(0)\n",
    "    nombres.sort()\n",
    "    return nombres.index(0)\n",
    "\n",
    "compter_negatives([3, -1, 1.5, 5, -6.3, -7.9, 2])"
   ],
   "outputs": [],
   "metadata": {
    "slideshow": {
     "slide_type": "notes"
    }
   }
  },
  {
   "cell_type": "markdown",
   "source": [
    "### La fonction `sorted()`\n",
    "\n",
    "* Comme on vient de voir, la méthode `sort()` modifie la liste sur laquelle cette méthode est appliquée. Si on souhaite créer une nouvelle liste, qui sera la version *triée* de la première, on peut utiliser la fonction `sorted()` "
   ],
   "metadata": {
    "slideshow": {
     "slide_type": "slide"
    }
   }
  },
  {
   "cell_type": "code",
   "execution_count": null,
   "source": [
    "L = [3, 5, 1, 7, 14, 2]\n",
    "L2 = sorted(L)\n",
    "print(L2)"
   ],
   "outputs": [],
   "metadata": {
    "slideshow": {
     "slide_type": "fragment"
    }
   }
  },
  {
   "cell_type": "markdown",
   "source": [
    "On peut également préciser si on souhaite trier selon un ordre *croissant* ou *décroissant*, avec le paramètre `reverse`. Par défaut, c'est l'ordre croissant qui est pris."
   ],
   "metadata": {
    "slideshow": {
     "slide_type": "fragment"
    }
   }
  },
  {
   "cell_type": "code",
   "execution_count": null,
   "source": [
    "L2 = sorted(L, reverse=False)\n",
    "print(L2)\n",
    "\n",
    "L2 = sorted(L, reverse=True)\n",
    "print(L2)"
   ],
   "outputs": [],
   "metadata": {
    "slideshow": {
     "slide_type": "fragment"
    }
   }
  },
  {
   "cell_type": "markdown",
   "source": [
    "## Lien listes et chaines de caractères\n",
    "\n",
    "Les chaînes de caractères peuvent être vues comme une sorte de listes particulières.\n",
    "\n",
    "On peut notamment utiliser certaines propriétés de listes, comme les *tranches*."
   ],
   "metadata": {
    "slideshow": {
     "slide_type": "slide"
    }
   }
  },
  {
   "cell_type": "code",
   "execution_count": null,
   "source": [
    "chaine = 'abracadabra'\n",
    "print(chaine[2:5])"
   ],
   "outputs": [],
   "metadata": {
    "slideshow": {
     "slide_type": "fragment"
    }
   }
  },
  {
   "cell_type": "markdown",
   "source": [
    "La différence principale entre les listes et les chaînes de caractères est que les chaînes de caractères sont des objets **non-modifiables** après création. "
   ],
   "metadata": {
    "slideshow": {
     "slide_type": "fragment"
    }
   }
  },
  {
   "cell_type": "code",
   "execution_count": null,
   "source": [
    "chaine[2] = 'd'"
   ],
   "outputs": [],
   "metadata": {
    "slideshow": {
     "slide_type": "fragment"
    }
   }
  },
  {
   "cell_type": "markdown",
   "source": [
    "## Listes en compréhension\n",
    "\n",
    "On peut créer des listes de façon **simple**, **concise** et **compacte**.\n",
    "\n",
    "Imaginons, qu'on veut créer une liste contenant la racine carrée des entiers $0, 1, \\dots, 9$.\n",
    "\n",
    "On peut utiliser une boucle pour faire cela."
   ],
   "metadata": {
    "slideshow": {
     "slide_type": "slide"
    }
   }
  },
  {
   "cell_type": "code",
   "execution_count": 3,
   "source": [
    "import math\n",
    "l = []\n",
    "for i in range(10) :\n",
    "    l.append(math.sqrt(i))\n",
    "\n",
    "print(l)"
   ],
   "outputs": [
    {
     "output_type": "stream",
     "name": "stdout",
     "text": [
      "[0.0, 1.0, 1.4142135623730951, 1.7320508075688772, 2.0, 2.23606797749979, 2.449489742783178, 2.6457513110645907, 2.8284271247461903, 3.0]\n"
     ]
    }
   ],
   "metadata": {
    "slideshow": {
     "slide_type": "fragment"
    }
   }
  },
  {
   "cell_type": "markdown",
   "source": [
    "On peut faire la même chose de manière plus *élégante* et surtout *compacte*, en une seule instruction."
   ],
   "metadata": {
    "slideshow": {
     "slide_type": "fragment"
    }
   }
  },
  {
   "cell_type": "code",
   "execution_count": null,
   "source": [
    "import math\n",
    "l = [math.sqrt(i) for i in range(10)]\n",
    "\n",
    "print(l)"
   ],
   "outputs": [],
   "metadata": {
    "slideshow": {
     "slide_type": "fragment"
    }
   }
  },
  {
   "cell_type": "markdown",
   "source": [
    "Une liste `L` en compréhension se créé de la façon suivante : `L`  = `[expr for x in t]`\n",
    "\n",
    "* Dans cette syntaxe : les crochets `[]`, les mots clés `for` et `in` sont obligatoires.\n",
    "* `t` est souvent une liste ou une collection de type `range`.\n",
    "* `x`est la variable de contrôle\n",
    "* `expr` est une expression qui dépend en général de `x` et dont la valeur est placée dans la liste."
   ],
   "metadata": {
    "slideshow": {
     "slide_type": "subslide"
    }
   }
  },
  {
   "cell_type": "markdown",
   "source": [
    "**Exercice :** Créer avec une seule instruction une liste qui contient la table de multiplication de *5*."
   ],
   "metadata": {
    "slideshow": {
     "slide_type": "subslide"
    }
   }
  },
  {
   "cell_type": "code",
   "execution_count": null,
   "source": [],
   "outputs": [],
   "metadata": {}
  },
  {
   "cell_type": "code",
   "execution_count": 9,
   "source": [
    "mult5 = [5*i for i in range(1,11)]\n",
    "mult5"
   ],
   "outputs": [
    {
     "output_type": "execute_result",
     "data": {
      "text/plain": [
       "[5, 10, 15, 20, 25, 30, 35, 40, 45, 50]"
      ]
     },
     "metadata": {},
     "execution_count": 9
    }
   ],
   "metadata": {
    "slideshow": {
     "slide_type": "notes"
    }
   }
  },
  {
   "cell_type": "markdown",
   "source": [
    "## Copie d'une liste\n",
    "\n",
    "Que fait le code suivant ?"
   ],
   "metadata": {
    "slideshow": {
     "slide_type": "slide"
    }
   }
  },
  {
   "cell_type": "code",
   "execution_count": null,
   "source": [
    "L1 = [1, 2, 3, 4, 5, 6]\n",
    "L2 = L1\n",
    "print(L2)\n",
    "\n",
    "L2.append(7)\n",
    "print(L2)\n",
    "print(L1) "
   ],
   "outputs": [],
   "metadata": {
    "slideshow": {
     "slide_type": "fragment"
    }
   }
  },
  {
   "cell_type": "markdown",
   "source": [
    "⚠️ En modifiant `L2`, la liste `L1` a été modifiée aussi !\n",
    "\n",
    "* Il ne faut jamais utiliser l'opérateur `=` pour copier une liste. \n",
    "\n",
    "* Les deux objets `L1`et `L2` partagent la **même zone mémoire**. Une modification de l’un entraine une modification de l’autre. \n",
    "\n",
    "Visualisez ce code dans [PythonTutor](http://pythontutor.com/visualize.html#mode=edit) pour comprendre ce comportement."
   ],
   "metadata": {
    "slideshow": {
     "slide_type": "fragment"
    }
   }
  },
  {
   "cell_type": "markdown",
   "source": [
    "Comment donc faire une *vraie* copie de liste ?\n",
    "\n",
    "* Utiliser la fonction `list()`"
   ],
   "metadata": {
    "slideshow": {
     "slide_type": "subslide"
    }
   }
  },
  {
   "cell_type": "code",
   "execution_count": null,
   "source": [
    "L1 = [1, 2, 3, 4, 5, 6]\n",
    "L2 = list(L1)\n",
    "print(L2)\n",
    "\n",
    "L2.append(7)\n",
    "print(L2)\n",
    "print(L1)"
   ],
   "outputs": [],
   "metadata": {
    "slideshow": {
     "slide_type": "fragment"
    }
   }
  },
  {
   "cell_type": "markdown",
   "source": [
    "Visualisez ce code dans [PythonTutor](http://pythontutor.com/visualize.html#mode=edit)."
   ],
   "metadata": {
    "slideshow": {
     "slide_type": "fragment"
    }
   }
  },
  {
   "cell_type": "markdown",
   "source": [
    "* Compréhension de liste"
   ],
   "metadata": {
    "slideshow": {
     "slide_type": "subslide"
    }
   }
  },
  {
   "cell_type": "code",
   "execution_count": null,
   "source": [
    "L1 = [1, 2, 3, 4, 5, 6]\n",
    "L2 = [i for i in L1]\n",
    "print(L2)\n",
    "\n",
    "L2.append(7)\n",
    "print(L2)\n",
    "print(L1)"
   ],
   "outputs": [],
   "metadata": {
    "slideshow": {
     "slide_type": "fragment"
    }
   }
  },
  {
   "cell_type": "markdown",
   "source": [
    "* Utiliser la méthode `.copy()`."
   ],
   "metadata": {
    "slideshow": {
     "slide_type": "subslide"
    }
   }
  },
  {
   "cell_type": "code",
   "execution_count": null,
   "source": [
    "L1 = [1, 2, 3, 4, 5, 6]\n",
    "L2 = L1.copy()\n",
    "print(L2)\n",
    "\n",
    "L2.append(7)\n",
    "print(L2)\n",
    "print(L1)"
   ],
   "outputs": [],
   "metadata": {
    "slideshow": {
     "slide_type": "fragment"
    }
   }
  },
  {
   "cell_type": "markdown",
   "source": [
    "La méthode des tranches ne modifie pas la liste, donc on peut utiliser l'instruction `L2 = L1[:]` pour réaliser une copie d'une liste."
   ],
   "metadata": {
    "slideshow": {
     "slide_type": "subslide"
    }
   }
  },
  {
   "cell_type": "code",
   "execution_count": null,
   "source": [
    "L1 = [1, 2, 3, 4, 5, 6]\n",
    "L2 = L1[:]\n",
    "print(L2)\n",
    "\n",
    "L2.append(7)\n",
    "print(L2)\n",
    "print(L1)"
   ],
   "outputs": [],
   "metadata": {
    "slideshow": {
     "slide_type": "fragment"
    }
   }
  },
  {
   "cell_type": "markdown",
   "source": [
    "## Test d’appartenance\n",
    "\n",
    "On peut facilement tester l'appartenance d'un élément dans une liste avec l'opérateur `in`."
   ],
   "metadata": {
    "slideshow": {
     "slide_type": "slide"
    }
   }
  },
  {
   "cell_type": "code",
   "execution_count": null,
   "source": [
    "nombres = [1, 3, 5, 7, 9, 11]\n",
    "print(3 in nombres)\n",
    "print(2 in nombres)\n",
    "print(5 in nombres and 7 in nombres)"
   ],
   "outputs": [],
   "metadata": {
    "slideshow": {
     "slide_type": "fragment"
    }
   }
  },
  {
   "cell_type": "markdown",
   "source": [
    "En combinant avec le mot-clé `not` on peut vérifier si un élément est absent d'une liste."
   ],
   "metadata": {
    "slideshow": {
     "slide_type": "fragment"
    }
   }
  },
  {
   "cell_type": "code",
   "execution_count": null,
   "source": [
    "4 not in nombres"
   ],
   "outputs": [],
   "metadata": {
    "slideshow": {
     "slide_type": "fragment"
    }
   }
  },
  {
   "cell_type": "markdown",
   "source": [
    "**Exercice** : Compléter la fonction suivante qui prend en entrée deux chaînes de caractères et qui renvoie une liste contenant les mots communs de ces deux chaînes."
   ],
   "metadata": {
    "slideshow": {
     "slide_type": "subslide"
    }
   }
  },
  {
   "cell_type": "code",
   "execution_count": null,
   "source": [
    "def motsCommuns(mot1, mot2) :\n",
    "    \"\"\" Fonction qui prend en entrée deux chaînes de caractères et renvoie une liste contenant\n",
    "        les mots communs de ces deux chaînes.\"\"\"\n",
    "    \n",
    "    # La méthode .split() convertit une chaîne en une liste de mots.\n",
    "    liste1 = mot1.split()\n",
    "    liste2 = mot2.split()\n",
    "    \n",
    "    # Compléter\n",
    "    \n",
    "    \n",
    "listeMotsCommuns = motsCommuns(\"Python est un langage de programmation sympa\", \"Programmer en Python est facile\")\n",
    "print(\"Les mots communs sont :\", listeMotsCommuns)"
   ],
   "outputs": [],
   "metadata": {
    "slideshow": {
     "slide_type": "fragment"
    }
   }
  },
  {
   "cell_type": "code",
   "execution_count": null,
   "source": [
    "def motsCommuns(mot1, mot2) :\n",
    "    \"\"\" Fonction qui prend en entrée deux chaînes de caractères et renvoie une liste contenant\n",
    "        les mots communs de ces deux chaînes.\"\"\"\n",
    "    \n",
    "    # La méthode .split() convertit une chaîne en une liste de mots.\n",
    "    liste1 = mot1.split()\n",
    "    liste2 = mot2.split()\n",
    "    \n",
    "   \n",
    "    listeCommune = []\n",
    "    # Compléter\n",
    "    for a in liste1 :\n",
    "        if a in liste2 :\n",
    "            listeCommune.append(a)\n",
    "            \n",
    "    return listeCommune\n",
    "    \n",
    "    \n",
    "listeMotsCommuns = motsCommuns(\"Python est un langage de programmation sympa\", \"Programmer en Python est facile\")\n",
    "print(\"Les mots communs sont :\", listeMotsCommuns)"
   ],
   "outputs": [],
   "metadata": {
    "slideshow": {
     "slide_type": "notes"
    }
   }
  },
  {
   "cell_type": "markdown",
   "source": [
    "## Listes imbriquées\n",
    "\n",
    "Nous avons souvent besoin de traiter des données complexes, par exemple de créer une liste, où chaque élément est à nouveau une liste. On parle alors de **listes imbriquées**, **doubles listes** ou **listes bidimensionnelles**. "
   ],
   "metadata": {
    "slideshow": {
     "slide_type": "slide"
    }
   }
  },
  {
   "cell_type": "code",
   "execution_count": null,
   "source": [
    "L = [[1, 2, 3], [4, 5], [6, 7, 8, 9]]\n",
    "print(L[0])\n",
    "print(L[1])\n",
    "print(L[2][1])\n"
   ],
   "outputs": [],
   "metadata": {
    "slideshow": {
     "slide_type": "fragment"
    }
   }
  },
  {
   "cell_type": "markdown",
   "source": [
    "Il y a plusieurs manières de *parcourir* tous les éléments de la liste.\n",
    "\n",
    "Le code suivant calcule la somme de tous les éléments de la liste `L`."
   ],
   "metadata": {
    "slideshow": {
     "slide_type": "fragment"
    }
   }
  },
  {
   "cell_type": "code",
   "execution_count": null,
   "source": [
    "somme = 0\n",
    "for i in range(len(L)) :\n",
    "    for j in range(len(L[i])) :\n",
    "        somme += L[i][j]\n",
    "\n",
    "print(\"La somme de tous les éléments de la liste vaut :\", somme)"
   ],
   "outputs": [],
   "metadata": {
    "slideshow": {
     "slide_type": "fragment"
    }
   }
  },
  {
   "cell_type": "markdown",
   "source": [
    "Autre façon (plus élégante) de faire la même chose :"
   ],
   "metadata": {
    "slideshow": {
     "slide_type": "subslide"
    }
   }
  },
  {
   "cell_type": "code",
   "execution_count": null,
   "source": [
    "L = [[1, 2, 3], [4, 5], [6, 7, 8, 9]]\n",
    "\n",
    "somme = 0\n",
    "for i in L :\n",
    "    for j in i :\n",
    "        somme += j\n",
    "        \n",
    "print(\"La somme de tous les éléments de la liste vaut :\", somme)       "
   ],
   "outputs": [],
   "metadata": {
    "slideshow": {
     "slide_type": "fragment"
    }
   }
  },
  {
   "cell_type": "markdown",
   "source": [
    "### Création de listes imbriquées\n",
    "\n",
    "Comment créer une liste ayant $m$ lignes et $n$ colonnes, remplie de zéros ?\n",
    "\n",
    "Voici une première tentative :"
   ],
   "metadata": {
    "slideshow": {
     "slide_type": "subslide"
    }
   }
  },
  {
   "cell_type": "code",
   "execution_count": null,
   "source": [
    "m = 3\n",
    "n = 4\n",
    "L = [[0] * n] * m\n",
    "print(L)"
   ],
   "outputs": [],
   "metadata": {
    "slideshow": {
     "slide_type": "fragment"
    }
   }
  },
  {
   "cell_type": "markdown",
   "source": [
    "Pouvez-vous expliquer le comportement suivant ? (Utilisez éventuellement [PythonTutor](http://pythontutor.com/visualize.html#mode=edit). )"
   ],
   "metadata": {
    "slideshow": {
     "slide_type": "fragment"
    }
   }
  },
  {
   "cell_type": "code",
   "execution_count": null,
   "source": [
    "L[0][2] = 1\n",
    "print(L)"
   ],
   "outputs": [],
   "metadata": {
    "slideshow": {
     "slide_type": "fragment"
    }
   }
  },
  {
   "cell_type": "markdown",
   "source": [
    "⚠️  $m$ listes sont créées mais qui **font toutes référence à la même liste** !"
   ],
   "metadata": {
    "slideshow": {
     "slide_type": "fragment"
    }
   }
  },
  {
   "cell_type": "markdown",
   "source": [
    "Comment faire de manière en évitant une copie de références ?\n",
    "\n",
    "Plusieurs façons correctes de faire. La plus compacte est sûrement la suivante :"
   ],
   "metadata": {
    "slideshow": {
     "slide_type": "subslide"
    }
   }
  },
  {
   "cell_type": "code",
   "execution_count": null,
   "source": [
    "m = 3\n",
    "n = 4\n",
    "L = [[0] * n for i in range(m)]\n",
    "print(L)"
   ],
   "outputs": [],
   "metadata": {
    "slideshow": {
     "slide_type": "fragment"
    }
   }
  },
  {
   "cell_type": "code",
   "execution_count": null,
   "source": [
    "L[0][2] = 1\n",
    "print(L)"
   ],
   "outputs": [],
   "metadata": {
    "slideshow": {
     "slide_type": "fragment"
    }
   }
  },
  {
   "cell_type": "markdown",
   "source": [
    "**Exercice** : Créer une liste en deux dimensions, contenant la matrice suivante :\n",
    "\n",
    "$$\\begin{bmatrix}1 & 2 & 2 & 2 \\\\0 & 1 & 2 & 2 \\\\ 0 & 0 & 1 & 2 \\\\ 0 & 0 & 0 & 1\\end{bmatrix}$$"
   ],
   "metadata": {
    "slideshow": {
     "slide_type": "subslide"
    }
   }
  },
  {
   "cell_type": "code",
   "execution_count": null,
   "source": [],
   "outputs": [],
   "metadata": {
    "slideshow": {
     "slide_type": "fragment"
    }
   }
  },
  {
   "cell_type": "code",
   "execution_count": null,
   "source": [
    "L = [[0] * 4 for i in range(4)]\n",
    "for i in range(4) :\n",
    "    for j in range(4) :\n",
    "        if i == j :\n",
    "            L[i][j] = 1\n",
    "        elif i < j :\n",
    "            L[i][j] = 2\n",
    "            \n",
    "for i in L:\n",
    "    print(' '.join([str(j) for j in i]))"
   ],
   "outputs": [],
   "metadata": {
    "slideshow": {
     "slide_type": "notes"
    }
   }
  },
  {
   "cell_type": "markdown",
   "source": [
    "On peut avoir une solution plus compacte."
   ],
   "metadata": {
    "slideshow": {
     "slide_type": "notes"
    }
   }
  },
  {
   "cell_type": "code",
   "execution_count": null,
   "source": [
    "L = [0] * 4\n",
    "for i in range(4) : # pour chaque ligne\n",
    "    L[i] = [0] * i + [1] + [2] * (n - i - 1)\n",
    "\n",
    "for i in L:\n",
    "    print(' '.join([str(j) for j in i]))"
   ],
   "outputs": [],
   "metadata": {
    "slideshow": {
     "slide_type": "notes"
    }
   }
  },
  {
   "cell_type": "markdown",
   "source": [
    "**Exercice (jeu Scrabble simplifié)**\n",
    "\n",
    "En *Scrabble* le tirage des 7 lettres est dit *valide* quand celui-ci comporte au moins 2 voyelles.\n",
    "\n",
    "On simplifie le jeu en supposant que seules les lettres (E, A, I, N, O, R, S, T) peuvent être tirées.\n",
    "\n",
    "On suppose qu'on a un sac constritué de ces 8 lettres dans les quantités suivantes :\n",
    "\n",
    "  * A : 9 fois\n",
    "  * E, I, N, O, R, S, T : 6 fois pour chacune de ces lettres.\n",
    "  \n",
    "Écrire un programme qui tire au hasard 7 lettres dans le sac :\n",
    "  * si le tirage est valide, afficher le tirage et arrêter.\n",
    "  * si le tirage n'est pas valide, recommencer.\n",
    "  "
   ],
   "metadata": {
    "slideshow": {
     "slide_type": "slide"
    }
   }
  },
  {
   "cell_type": "code",
   "execution_count": null,
   "source": [],
   "outputs": [],
   "metadata": {
    "slideshow": {
     "slide_type": "subslide"
    }
   }
  },
  {
   "cell_type": "code",
   "execution_count": null,
   "source": [
    "import random\n",
    "\n",
    "def verificatioTirage(l) :\n",
    "    \"\"\"Fonction qui prend en entrée une liste correspondant à un tirage\n",
    "       et vérifie si le tirage est valide\"\"\"\n",
    "    \n",
    "    # Compter le nombrer de voyelles dans le tirage\n",
    "    compteur = 0\n",
    "    for i in range(len(l)) :\n",
    "        if l[i] in voyelles :\n",
    "            compteur += 1\n",
    "            \n",
    "    # Si plus de deux voyelles renvoyer True, sinon renvoyer False        \n",
    "    if compteur >= 2 :\n",
    "        return True\n",
    "    else :\n",
    "        return False\n",
    "    \n",
    "\n",
    "# Création du sac contenant toutes les lettres\n",
    "sac = ['A'] * 9 + ['E'] * 6 + ['I'] * 6 + ['N'] * 6 + ['O'] * 6 + ['R'] * 6 + ['S'] * 6 + ['T'] * 6\n",
    "\n",
    "# Liste contenant les voyelles\n",
    "voyelles = ['A', 'E', 'I', 'O']\n",
    "\n",
    "while(True) :\n",
    "    # Tirer 7 lettres aux hasard\n",
    "    tirage = []\n",
    "    for i in range(7) :\n",
    "        tirage.append(sac[random.randint(0,len(sac))])\n",
    "    \n",
    "    res = verificatioTirage(tirage)\n",
    "    if res :\n",
    "        print(\"Tirage\", tirage)\n",
    "        break\n",
    "    \n",
    "    \n",
    "    "
   ],
   "outputs": [],
   "metadata": {
    "slideshow": {
     "slide_type": "notes"
    }
   }
  },
  {
   "cell_type": "markdown",
   "source": [
    "## Ensembles \n",
    "\n",
    "Un **ensemble (set)** est une collection d'éléments ne contenant pas de doublons.\n",
    "\n",
    "**Exemple:** $A = (1, 3, 10, 5, 2)$ est un ensemble, tandis que $B = (1, 10, 3, 3, 5, 2, 1)$ n'en est pas un.\n",
    "\n",
    "Python permet de créer des objets de type `set`.\n",
    "\n",
    "* Un `set` n'est ni **ordonné**, ni **modifiable**.\n",
    "\n",
    "* On utilise des `{}` pour créer un nouveau `set`.\n"
   ],
   "metadata": {
    "slideshow": {
     "slide_type": "slide"
    }
   }
  },
  {
   "cell_type": "code",
   "execution_count": null,
   "source": [
    "s = {1, 2, 3, 4, 5}\n",
    "print(s)\n",
    "print(type(s))"
   ],
   "outputs": [],
   "metadata": {
    "slideshow": {
     "slide_type": "fragment"
    }
   }
  },
  {
   "cell_type": "markdown",
   "source": [
    "La fonction `set()` permet de générer un ensemble à partir de n'importe quel objet iterable."
   ],
   "metadata": {
    "slideshow": {
     "slide_type": "subslide"
    }
   }
  },
  {
   "cell_type": "code",
   "execution_count": null,
   "source": [
    "# À partir d'une liste\n",
    "s = set([1, 3, 4, 5, 4, 3])\n",
    "s"
   ],
   "outputs": [],
   "metadata": {
    "slideshow": {
     "slide_type": "fragment"
    }
   }
  },
  {
   "cell_type": "code",
   "execution_count": null,
   "source": [
    "# À partir de range()\n",
    "s = set(range(10))\n",
    "s"
   ],
   "outputs": [],
   "metadata": {
    "slideshow": {
     "slide_type": "fragment"
    }
   }
  },
  {
   "cell_type": "code",
   "execution_count": null,
   "source": [
    "# À partir d'une chaîne de caractères\n",
    "s = set(\"Versailles\")\n",
    "s"
   ],
   "outputs": [],
   "metadata": {
    "slideshow": {
     "slide_type": "fragment"
    }
   }
  },
  {
   "cell_type": "markdown",
   "source": [
    "Un `set` est **itérable** ..."
   ],
   "metadata": {
    "slideshow": {
     "slide_type": "subslide"
    }
   }
  },
  {
   "cell_type": "code",
   "execution_count": null,
   "source": [
    "s = {0, 5, 10, 15}\n",
    "for element in s :\n",
    "    print(element)"
   ],
   "outputs": [],
   "metadata": {
    "slideshow": {
     "slide_type": "fragment"
    }
   }
  },
  {
   "cell_type": "markdown",
   "source": [
    "... mais pas **ordonné.** Impossible donc de récupérer un élément par sa position."
   ],
   "metadata": {
    "slideshow": {
     "slide_type": "fragment"
    }
   }
  },
  {
   "cell_type": "code",
   "execution_count": null,
   "source": [
    "s[2]"
   ],
   "outputs": [],
   "metadata": {
    "slideshow": {
     "slide_type": "fragment"
    }
   }
  },
  {
   "cell_type": "markdown",
   "source": [
    "Les `sets` sont très pratiques pour *supprimer des doublons*.\n",
    "\n",
    "**Exercice** : Écrire une fonction qui prend en paramètre une liste et renvoie une nouvelle liste, égale à celle passée en paramètre mais sans les doublons. "
   ],
   "metadata": {
    "slideshow": {
     "slide_type": "subslide"
    }
   }
  },
  {
   "cell_type": "code",
   "execution_count": null,
   "source": [],
   "outputs": [],
   "metadata": {
    "slideshow": {
     "slide_type": "fragment"
    }
   }
  },
  {
   "cell_type": "code",
   "execution_count": null,
   "source": [
    "def supprime_doublons(liste) :\n",
    "    return list(set(liste))\n",
    "\n",
    "nouvelle_liste = supprime_doublons([1, 3, 3, 5, 6, 7, 3, 1])\n",
    "print(nouvelle_liste)"
   ],
   "outputs": [],
   "metadata": {
    "slideshow": {
     "slide_type": "notes"
    }
   }
  },
  {
   "cell_type": "markdown",
   "source": [
    "**Exercice :** Écrire une fonction qui prend en entrée une chaîne de caractères et compte combien de lettres sont présentes dans la chaîne et combien de fois chaque lettre y apparaît. La fonction doit renvoyer une liste contenant des couples `[lettre, nb_apparition]`."
   ],
   "metadata": {
    "slideshow": {
     "slide_type": "slide"
    }
   }
  },
  {
   "cell_type": "code",
   "execution_count": null,
   "source": [],
   "outputs": [],
   "metadata": {
    "slideshow": {
     "slide_type": "fragment"
    }
   }
  },
  {
   "cell_type": "code",
   "execution_count": null,
   "source": [
    "def compteur_lettres(chaine) :\n",
    "    \"\"\" Renvoie une liste de couples (lettre, nb_apparition), pour indiquer combien de fois est\n",
    "        présente chaque lettre\"\"\"\n",
    "    liste_compteur = []\n",
    "    s = set(chaine)\n",
    "    for e in s :\n",
    "        liste_compteur.append([e, chaine.count(e)])\n",
    "    print(liste_compteur)\n",
    "        \n",
    "ma_chaine = 'abracatambra'\n",
    "compteur_lettres(ma_chaine)"
   ],
   "outputs": [],
   "metadata": {
    "slideshow": {
     "slide_type": "notes"
    }
   }
  },
  {
   "cell_type": "markdown",
   "source": [
    "Les ensembles permettent d'effectuer des opérations mathématiques telles que l'*union*, l'*intersection*, la *différence* ou la *différence symétrique*.\n",
    "\n",
    "**Exemple:** $A = \\{0, 1, 2, 3, 4\\}$, $B = \\{2, 3, 4, 5\\}$\n",
    "\n",
    "* $A\\cup B := \\{x \\in A \\text{ ou } x\\in B\\} = \\{0, 1, 2, 3, 4, 5\\}$\n",
    "* $A\\cap B := \\{x \\in A \\text{ et } x\\in B\\} = \\{2, 3, 4\\}$ \n",
    "* $A\\setminus B := \\{x \\in A \\text{ et } x \\not \\in B\\} = \\{0, 1\\}$\n",
    "* $A\\triangle B := \\{x \\in A\\cup B \\text{ et } x \\not \\in A\\cap B\\} = \\{0, 1, 5\\}$"
   ],
   "metadata": {
    "slideshow": {
     "slide_type": "slide"
    }
   }
  },
  {
   "cell_type": "code",
   "execution_count": null,
   "source": [
    "chaine1 = 'chaussette'\n",
    "chaine2 = 'archiduchesse'\n",
    "\n",
    "a = set(chaine1)\n",
    "b = set(chaine2)\n",
    "\n",
    "print(a)\n",
    "print(b)"
   ],
   "outputs": [],
   "metadata": {
    "slideshow": {
     "slide_type": "subslide"
    }
   }
  },
  {
   "cell_type": "markdown",
   "source": [
    "Que font les instructions suivantes ?"
   ],
   "metadata": {
    "slideshow": {
     "slide_type": "fragment"
    }
   }
  },
  {
   "cell_type": "code",
   "execution_count": null,
   "source": [
    "a | b"
   ],
   "outputs": [],
   "metadata": {
    "slideshow": {
     "slide_type": "fragment"
    }
   }
  },
  {
   "cell_type": "code",
   "execution_count": null,
   "source": [
    "a & b"
   ],
   "outputs": [],
   "metadata": {
    "slideshow": {
     "slide_type": "fragment"
    }
   }
  },
  {
   "cell_type": "code",
   "execution_count": null,
   "source": [
    "a - b"
   ],
   "outputs": [],
   "metadata": {
    "slideshow": {
     "slide_type": "subslide"
    }
   }
  },
  {
   "cell_type": "code",
   "execution_count": null,
   "source": [
    "a ^ b"
   ],
   "outputs": [],
   "metadata": {
    "slideshow": {
     "slide_type": "fragment"
    }
   }
  },
  {
   "cell_type": "markdown",
   "source": [
    "* `a | b`: $A\\cup B$\n",
    "* `a & b`: $A\\cap B$\n",
    "* `a - b`: $A \\setminus B$\n",
    "* `a ^ b`: $A\\triangle B$"
   ],
   "metadata": {
    "slideshow": {
     "slide_type": "fragment"
    }
   }
  },
  {
   "cell_type": "markdown",
   "source": [
    "## Dictionnaires\n",
    "\n",
    "Un dictionnaire est une structure de données, dont les éléments sont accessibles grâce à une *clé*."
   ],
   "metadata": {
    "slideshow": {
     "slide_type": "slide"
    }
   }
  },
  {
   "cell_type": "code",
   "execution_count": null,
   "source": [
    "dico_notes = {\"Gaëtan\" : 14, \"Laure\" : 9, \"Kenza\" : 17, \"Gabriel\" : 14}"
   ],
   "outputs": [],
   "metadata": {
    "slideshow": {
     "slide_type": "fragment"
    }
   }
  },
  {
   "cell_type": "markdown",
   "source": [
    "* Pour construire un dictionnaire, on utilise des accolades `{}`.\n",
    "* Un élément d'un dictionnaire est un couple `cle: valeur`.\n",
    "* On accède à une **valeur** du dictionnaire en utilisant la **clé** :"
   ],
   "metadata": {
    "slideshow": {
     "slide_type": "fragment"
    }
   }
  },
  {
   "cell_type": "code",
   "execution_count": null,
   "source": [
    "dico_notes[\"Laure\"]"
   ],
   "outputs": [],
   "metadata": {
    "slideshow": {
     "slide_type": "fragment"
    }
   }
  },
  {
   "cell_type": "markdown",
   "source": [
    "* Dans un dictionnaire, les clés doivent être *uniques*, mais pas les valeurs.\n",
    "* Les clés peuvent être n'importe quel objet immuable (par ex. des `int` ou des `string`)"
   ],
   "metadata": {
    "slideshow": {
     "slide_type": "fragment"
    }
   }
  },
  {
   "cell_type": "markdown",
   "source": [
    "Il est facile de créer et modifier un dictionnaire."
   ],
   "metadata": {
    "slideshow": {
     "slide_type": "subslide"
    }
   }
  },
  {
   "cell_type": "code",
   "execution_count": null,
   "source": [
    "dico_notes = {\"Gaëtan\" : 14, \"Laure\" : 9, \"Kenza\" : 17, \"Gabriel\" : 14}\n",
    "\n",
    "# Changer une entrée existante\n",
    "dico_notes[\"Gaëtan\"] = 12\n",
    "\n",
    "# Ajouter une nouvelle entrée\n",
    "\n",
    "dico_notes[\"Anne\"] = 15\n",
    "\n",
    "print(dico_notes)\n",
    "\n",
    "# Créer un dictionnaire vide.\n",
    "\n",
    "dico_vide = {}\n",
    "\n",
    "# Utilisation du constructeur dict()\n",
    "dico_restos = dict([(\"L'auberge du Goëllo\", 22170), (\"Café Menilmontant\", 75011), (\"Mamie Bigoude\", 17000)])\n",
    "\n",
    "print(dico_restos)"
   ],
   "outputs": [],
   "metadata": {
    "slideshow": {
     "slide_type": "fragment"
    }
   }
  },
  {
   "cell_type": "markdown",
   "source": [
    "### Comment parcourir un dictionnaire ?\n",
    "\n",
    " * Les clés et leurs valeurs peuvent être récupérées en même temps en utilisant la méthode `items()` :"
   ],
   "metadata": {
    "slideshow": {
     "slide_type": "subslide"
    }
   }
  },
  {
   "cell_type": "code",
   "execution_count": null,
   "source": [
    "dico_notes = {\"Gaëtan\" : 14, \"Laure\" : 9, \"Kenza\" : 17, \"Gabriel\" : 14}\n",
    "\n",
    "for i in dico_notes.items():\n",
    "    print(i)"
   ],
   "outputs": [],
   "metadata": {
    "slideshow": {
     "slide_type": "fragment"
    }
   }
  },
  {
   "cell_type": "code",
   "execution_count": null,
   "source": [
    "def a "
   ],
   "outputs": [],
   "metadata": {}
  },
  {
   "cell_type": "code",
   "execution_count": null,
   "source": [],
   "outputs": [],
   "metadata": {}
  }
 ],
 "metadata": {
  "celltoolbar": "Slideshow",
  "kernelspec": {
   "name": "python3",
   "display_name": "Python 3.9.7 64-bit ('l1-python': conda)"
  },
  "language_info": {
   "codemirror_mode": {
    "name": "ipython",
    "version": 3
   },
   "file_extension": ".py",
   "mimetype": "text/x-python",
   "name": "python",
   "nbconvert_exporter": "python",
   "pygments_lexer": "ipython3",
   "version": "3.9.7"
  },
  "interpreter": {
   "hash": "ec862206d8405247e3003360a092d3abf3ebcc1b865015b16225ca27bd9434a9"
  }
 },
 "nbformat": 4,
 "nbformat_minor": 4
}